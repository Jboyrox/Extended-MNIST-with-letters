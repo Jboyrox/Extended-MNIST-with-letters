{
  "cells": [
    {
      "cell_type": "markdown",
      "metadata": {
        "id": "6iUbuldGuqz9"
      },
      "source": [
        "# Lab: SVMs on Extended MNIST\n",
        "\n",
        "In the [MNIST demo](demo_mnist_svm.ipynb), we saw how SVMs can be used for the classic MNIST problem of digit recognition. In this lab, we are going to extend the MNIST dataset by adding a number of non-digit letters and see if the classifier can distinguish the digits from the non-digits. All non-digits will be lumped as a single 11-th class. This is a highly simplified version of 'detection' problem (as opposed to 'classification' problem). Detection is vital in OCR and related problems since the non useful characters must be rejected. \n",
        "\n",
        "In addition to the concepts in the demo, you will learn:\n",
        "* Combine multiple datasets\n",
        "* Select the SVM parameters (`C` and `gamma`) via cross-validation.\n",
        "* Use the `GridSearchCV` method to search for parameters with cross-validation.\n",
        "\n",
        "Note:  An [earlier version](lab_emnist_2017_partial.ipynb) of this lab made you manually create the combined letter and digit data.  In this lab, we will download the data from NIST website.  But, the old lab is still useful to look at if you want to see how to use `skimage` package for a number of image pre-processing tasks."
      ]
    },
    {
      "cell_type": "markdown",
      "metadata": {
        "id": "qo8DWpbvuqz_"
      },
      "source": [
        "As usual, we download the standard packages"
      ]
    },
    {
      "cell_type": "code",
      "execution_count": 1,
      "metadata": {
        "collapsed": true,
        "id": "bY0C2Ofiuq0A"
      },
      "outputs": [],
      "source": [
        "import numpy as np\n",
        "import matplotlib.pyplot as plt\n",
        "%matplotlib inline\n",
        "from sklearn import linear_model, preprocessing"
      ]
    },
    {
      "cell_type": "markdown",
      "metadata": {
        "id": "k3-imWgwuq0B"
      },
      "source": [
        "## Downloading the EMNIST Dataset\n",
        "\n",
        "After creating the highly popular MNIST dataset, NIST created an extended version of the dataset to include letters and digits.     The extended datase (called EMNIST) also has many more examples per class.  \n",
        "\n",
        "To download the data, first go to the [EMNIST webpage](https://www.nist.gov/itl/iad/image-group/emnist-dataset).  Near the bottom, you will see a link for `MATLAB format dataset`.  If you click on this link, you will download a `zip` file with several datasets in it.  The total file is 726M, so it may take some time and diskspace to download.  Extract two files:\n",
        "* `emnist-digits.mat`:  This is a file of digits `0` to `9`, but with more examples per class.\n",
        "* `emnist-letters.mat`:  This is a file of letters `a/A` to `z/Z`.  The lower and upper case letters are grouped into the same class.\n",
        "\n",
        "Once you get these two files, you can save yourself the diskspace and remove all the other files.\n",
        "\n",
        "You can download the files manually, or you can run the following commands which will download the files automatically.  "
      ]
    },
    {
      "cell_type": "code",
      "execution_count": 2,
      "metadata": {
        "colab": {
          "base_uri": "https://localhost:8080/"
        },
        "id": "TUhrorWJuq0C",
        "outputId": "f5d68610-069b-469f-fd79-cb737419a80d"
      },
      "outputs": [
        {
          "output_type": "stream",
          "name": "stdout",
          "text": [
            "Files already downloaded\n"
          ]
        }
      ],
      "source": [
        "from tqdm import tqdm\n",
        "import requests\n",
        "import os\n",
        "import zipfile\n",
        "\n",
        "def download_file(src_url, dst_fn):\n",
        "    \n",
        "    if os.path.exists(dst_fn):\n",
        "        print('File %s already exists' % dst_fn)\n",
        "        return\n",
        "    \n",
        "    print('Downloading %s' % dst_fn)\n",
        "    \n",
        "    # Streaming, so we can iterate over the response.\n",
        "    r = requests.get(src_url, stream=True)\n",
        "\n",
        "    # Total size in MB.\n",
        "    total_size = int(r.headers.get('content-length', 0)); \n",
        "    block_size = 1024\n",
        "    wrote = 0 \n",
        "    with open(dst_fn, 'wb') as f:\n",
        "        with tqdm(total=total_size//block_size, unit='kB', \n",
        "                           unit_scale=True, unit_divisor=1024) as pbar:\n",
        "            for data in r.iter_content(block_size):\n",
        "                wrote = wrote + len(data)\n",
        "                pbar.update(1)\n",
        "                f.write(data)\n",
        "    if total_size != 0 and wrote != total_size:\n",
        "        print(\"ERROR, something went wrong\") \n",
        "\n",
        "# Get file names\n",
        "matlab_dir = 'matlab'\n",
        "digits_fn =  os.path.join(matlab_dir,'emnist-digits.mat')\n",
        "letters_fn = os.path.join(matlab_dir,'emnist-letters.mat')\n",
        "\n",
        "# Check if files exists\n",
        "if os.path.exists(matlab_dir):\n",
        "    if os.path.exists(digits_fn) and os.path.exists(letters_fn):\n",
        "        print('Files already downloaded')\n",
        "        files_exists = True\n",
        "else:\n",
        "    files_exists = False\n",
        "    \n",
        "if not files_exists:\n",
        "    # First download the zip file if needed\n",
        "    src_url = \"http://www.itl.nist.gov/iaui/vip/cs_links/EMNIST/matlab.zip\"\n",
        "    dst_fn = 'matlab.zip'\n",
        "    download_file(src_url, dst_fn)\n",
        "    \n",
        "    # Then, unzip the file\n",
        "    print('Unzipping %s...' % dst_fn)\n",
        "    zip_ref = zipfile.ZipFile(dst_fn, 'r')\n",
        "    zip_ref.extractall('.')\n",
        "    zip_ref.close()\n",
        "    print('Unzip completed')"
      ]
    },
    {
      "cell_type": "markdown",
      "metadata": {
        "id": "_twW6tIquq0C"
      },
      "source": [
        "Since MATLAB files are still widely-used, Python has excellent routines for loading MATLAB files.  The function below uses the `scipy.io` package to extract the relevant fields from the MATLAB file.  Specifically, the function extracts the training and test data from MATLAB file. "
      ]
    },
    {
      "cell_type": "code",
      "execution_count": 3,
      "metadata": {
        "collapsed": true,
        "id": "s1blCjn8uq0D"
      },
      "outputs": [],
      "source": [
        "import scipy.io\n",
        "def load_emnist(file_path='emnist-digits.mat'):\n",
        "    \"\"\"\n",
        "    Loads training and test data with ntr and nts training and test samples\n",
        "    The `file_path` is the location of the `eminst-balanced.mat`.\n",
        "    \"\"\"    \n",
        "    \n",
        "    # Load the MATLAB file\n",
        "    mat = scipy.io.loadmat(file_path)\n",
        "    \n",
        "    # Get the training data\n",
        "    Xtr = mat['dataset'][0][0][0][0][0][0][:]\n",
        "    ntr = Xtr.shape[0]\n",
        "    ytr = mat['dataset'][0][0][0][0][0][1][:].reshape(ntr).astype(int)\n",
        "    \n",
        "    # Get the test data\n",
        "    Xts = mat['dataset'][0][0][1][0][0][0][:]\n",
        "    nts = Xts.shape[0]\n",
        "    yts = mat['dataset'][0][0][1][0][0][1][:].reshape(nts).astype(int)\n",
        "    \n",
        "    print(\"%d training samples, %d test samples loaded\" % (ntr, nts))\n",
        "\n",
        "    return [Xtr, Xts, ytr, yts]"
      ]
    },
    {
      "cell_type": "markdown",
      "metadata": {
        "id": "_JXTYr_wuq0D"
      },
      "source": [
        "Use the function above to get all the digit images from the `emnist-digits.mat` file.  "
      ]
    },
    {
      "cell_type": "code",
      "execution_count": 4,
      "metadata": {
        "colab": {
          "base_uri": "https://localhost:8080/"
        },
        "collapsed": true,
        "id": "wYkUQO-Vuq0E",
        "outputId": "d2cdba9e-99b7-4d99-824f-7f67f8d04541"
      },
      "outputs": [
        {
          "output_type": "stream",
          "name": "stdout",
          "text": [
            "240000 training samples, 40000 test samples loaded\n",
            "Xtr shape: (240000, 784)\n",
            "Xts shape: (40000, 784)\n"
          ]
        }
      ],
      "source": [
        "# TODO 1:  Load the digit data from emnist-digits.mat\n",
        "# Xtr_dig, Xts_dig, ytr_dig, yts_dig = ...\n",
        "matlab_dir ='matlab'\n",
        "digits_fn= os.path.join(matlab_dir,'emnist-digits.mat')\n",
        "letters_fn=os.path.join(matlab_dir,'emnist-letters.mat')\n",
        "\n",
        "(Xtr_dig, Xts_dig,ytr_dig,yts_dig) = load_emnist(digits_fn)\n",
        "\n",
        "print('Xtr shape: %s' % str(Xtr_dig.shape))\n",
        "print('Xts shape: %s' % str(Xts_dig.shape))\n",
        "\n",
        "ntr_let= Xtr_dig.shape[0]\n",
        "nts_let=Xts_dig.shape[0]\n",
        "npixel_let=Xtr_dig.shape[1]"
      ]
    },
    {
      "cell_type": "markdown",
      "metadata": {
        "id": "XmOp3YsXuq0E"
      },
      "source": [
        "Next, use the function above to get all the letter characters from the `emnist-letters.mat` file.  "
      ]
    },
    {
      "cell_type": "code",
      "execution_count": 5,
      "metadata": {
        "colab": {
          "base_uri": "https://localhost:8080/"
        },
        "collapsed": true,
        "id": "YRkJwVNGuq0E",
        "outputId": "17fbad7c-a209-409e-d3cc-ba0b005416e1"
      },
      "outputs": [
        {
          "output_type": "stream",
          "name": "stdout",
          "text": [
            "124800 training samples, 20800 test samples loaded\n",
            "Xtr shape: (124800, 784)\n",
            "Xts shape: (20800, 784)\n"
          ]
        }
      ],
      "source": [
        "# TODO 2:  Load the letter data from emnist-letters.mat\n",
        "# Xtr_let, Xts_let, ytr_let, yts_let = ...\n",
        "# TODO 1:  Load the digit data from emnist-digits.mat\n",
        "# Xtr_dig, Xts_dig, ytr_dig, yts_dig = ...\n",
        "matlab_dir ='matlab'\n",
        "digits_fn= os.path.join(matlab_dir,'emnist-digits.mat')\n",
        "letters_fn=os.path.join(matlab_dir,'emnist-letters.mat')\n",
        "\n",
        "(Xtr_let, Xts_let,ytr_let,yts_let) = load_emnist(letters_fn)\n",
        "\n",
        "print('Xtr shape: %s' % str(Xtr_let.shape))\n",
        "print('Xts shape: %s' % str(Xts_let.shape))\n",
        "\n",
        "ntr_let= Xtr_let.shape[0]\n",
        "nts_let=Xts_let.shape[0]\n",
        "npixel_let=Xtr_let.shape[1]"
      ]
    },
    {
      "cell_type": "markdown",
      "metadata": {
        "id": "gyKBbxZ3uq0F"
      },
      "source": [
        "We will use the function from the demo to plot the digits."
      ]
    },
    {
      "cell_type": "code",
      "execution_count": 6,
      "metadata": {
        "collapsed": true,
        "id": "SegyQ6L6uq0F"
      },
      "outputs": [],
      "source": [
        "def plt_digit(x,y=None):\n",
        "    nrow = 28\n",
        "    ncol = 28\n",
        "    xsq = x.reshape((nrow,ncol))\n",
        "    plt.imshow(xsq.T,  cmap='Greys_r')\n",
        "    plt.xticks([])\n",
        "    plt.yticks([])    \n",
        "    if y != None:\n",
        "        plt.title('%d' % y)          "
      ]
    },
    {
      "cell_type": "markdown",
      "metadata": {
        "id": "2dxDB6BBuq0F"
      },
      "source": [
        "Plot 8 random samples from the digit training data.  You can use the `plt_digit` function above with `subplot` to create a nice display.  You may want to size your plot with the `plt.figure(figsize=(10,20))` command."
      ]
    },
    {
      "cell_type": "code",
      "execution_count": 7,
      "metadata": {
        "colab": {
          "base_uri": "https://localhost:8080/",
          "height": 94
        },
        "collapsed": true,
        "id": "pyUvLZEouq0G",
        "outputId": "91d532af-ddc2-4765-d20a-b2c85fc3c7e3"
      },
      "outputs": [
        {
          "output_type": "display_data",
          "data": {
            "text/plain": [
              "<Figure size 720x1440 with 8 Axes>"
            ],
            "image/png": "[encoded data removed]"
          },
          "metadata": {}
        }
      ],
      "source": [
        "# TODO 3:  Plot 8 random samples from the training data of the digits\n",
        "\n",
        "nplt=8\n",
        "nsamp=Xtr_dig.shape[0]\n",
        "Iperm= np.random.permutation(nsamp)\n",
        "\n",
        "#Plot the image using subplot command\n",
        "#fig = plt.figure(figsize=(10,20))\n",
        "fig  = plt.figure(figsize=(10,20))\n",
        "for i in range(nplt):\n",
        "  ind= Iperm[i]\n",
        "  plt.subplot(1,nplt,i+1)\n",
        "  plt_digit(Xtr_dig[ind,:])"
      ]
    },
    {
      "cell_type": "markdown",
      "metadata": {
        "id": "vrtl5EXeuq0G"
      },
      "source": [
        "Next, plot 8 samples from the letters training data.  You should see that the labels go from 0 to 25 corresponding to `a` to `z`.  Upper and lower case letters belong to the same class."
      ]
    },
    {
      "cell_type": "code",
      "execution_count": 8,
      "metadata": {
        "colab": {
          "base_uri": "https://localhost:8080/",
          "height": 94
        },
        "collapsed": true,
        "id": "TqB9c58guq0G",
        "outputId": "337c7dd6-ca2d-4d10-b1ee-49e20aad5621"
      },
      "outputs": [
        {
          "output_type": "display_data",
          "data": {
            "text/plain": [
              "<Figure size 720x1440 with 8 Axes>"
            ],
            "image/png": "[encoded data removed]"
          },
          "metadata": {}
        }
      ],
      "source": [
        "# TODO 4:  Plot 8 random samples from the training data of the letters\n",
        "nplt=8\n",
        "nsamp=Xtr_let.shape[0]\n",
        "Iperm= np.random.permutation(nsamp)\n",
        "\n",
        "#Plot the image using subplot command\n",
        "#fig = plt.figure(figsize=(10,20))\n",
        "fig  = plt.figure(figsize=(10,20))\n",
        "for i in range(nplt):\n",
        "  ind= Iperm[i]\n",
        "  plt.subplot(1,nplt,i+1)\n",
        "  plt_digit(Xtr_let[ind,:])"
      ]
    },
    {
      "cell_type": "markdown",
      "metadata": {
        "id": "ua0yttU4uq0H"
      },
      "source": [
        "## Creating a Non-Digit Class\n",
        "\n",
        "SVM classifiers are VERY SLOW to train.  The training is particularly slow when there are a large number of classes, since the one classifier must be trained for each pair of labels.  To make the problem easier, we are going to lump all of the letters in one class and add that class to the digits.  \n",
        "\n",
        "Before we begin, we first need to remove all the letters corresponding to `i/I`, `l/L` and `o/O`.  The reason is that these letters would get confused with the digits `0` and `1`.  Create arrays `Xtr_let_rem` and `ytr_let_rem` from the data `Xtr_let` and `ytr_let`, where the samples `i` with `ytr_let[i] == 9, 12` or `15` are removed.   Create `Xts_let_rem` and `yts_let_rem` similarly.\n",
        "\n",
        "If you are clever, you can do this without a for-loop via python broadcasting and `np.all(..., axis=1)` command.  But, you will receive full marks if you use a `for-loop`."
      ]
    },
    {
      "cell_type": "code",
      "execution_count": 9,
      "metadata": {
        "colab": {
          "base_uri": "https://localhost:8080/"
        },
        "collapsed": true,
        "id": "x0ag6cHKuq0H",
        "outputId": "84fefd59-e329-48dc-f663-3fa5fd25b8e0"
      },
      "outputs": [
        {
          "output_type": "stream",
          "name": "stdout",
          "text": [
            "(124800, 1)\n",
            "(1, 3)\n",
            "(124800,)\n"
          ]
        }
      ],
      "source": [
        "remove_list = np.array([9,12,15])\n",
        "\n",
        "# TODO 5:  Create arrays with labels 9, 12 and 15 removed\n",
        "# Xtr_let_rem, ytr_let_rem = ...\n",
        "# Xts_let_rem, yts_let_rem = ...\n",
        "ytr_let1= ytr_let[:,None]\n",
        "remove_list1=remove_list[None,:]\n",
        "print(ytr_let1.shape)\n",
        "print(remove_list1.shape)\n",
        "\n",
        "remove_flag=np.all(ytr_let1 !=remove_list1 ,axis=1)\n",
        "print(remove_flag.shape)\n",
        "Xtr_let_rem = Xtr_let[remove_flag,:]\n",
        "ytr_let_rem = ytr_let[remove_flag]\n",
        "\n",
        "remove_flag2= np.all(yts_let[:,None] !=remove_list, axis=1)\n",
        "Xts_let_rem = Xts_let[remove_flag2,:]\n",
        "yts_let_rem = yts_let[remove_flag2]\n"
      ]
    },
    {
      "cell_type": "markdown",
      "metadata": {
        "id": "BSmcA6hVuq0I"
      },
      "source": [
        "Since training and testing an SVM is VERY SLOW, we will use only a small subset of the training and test data.  Of course, you will not get great results with this small dataset.  But, we can at least illustrate the basic concepts.  \n",
        "\n",
        "Create arrays `Xtr1_dig` and `ytr1_dig` by selecting 5000 random training digit samples from `Xtr_dig` and `ytr_dig`.  Create arrays `Xtr1_let` and `ytr1_let` by selecting 1000 random training letter samples from `Xtr_let_rem` and `ytr_let_rem`.  Similarly, create test arrays `Xts1_dig,Xts1_let,yts1_dig,yts1_let` with 5000 digits and 1000 letters."
      ]
    },
    {
      "cell_type": "code",
      "execution_count": 10,
      "metadata": {
        "collapsed": true,
        "id": "tWtTj0dQuq0I"
      },
      "outputs": [],
      "source": [
        "# Number of training and test digits and letters\n",
        "ntr_dig = 5000\n",
        "ntr_let = 1000\n",
        "nts_dig = 5000\n",
        "nts_let = 1000\n",
        "\n",
        "# TODO 6 Create sub-sampled training and test data\n",
        "# Xtr1_dig, ytr1_dig = ...\n",
        "# Xts1_dig, yts1_dig = ...\n",
        "# Xtr1_let, ytr1_let = ...\n",
        "# Xts1_let, yts1_let = ... \n",
        "\n",
        "np.random.seed(1)\n",
        "tr_dig=np.random.randint(0,Xtr_dig.shape[0],ntr_dig)\n",
        "ts_dig=np.random.randint(0,Xts_dig.shape[0],nts_dig)\n",
        "tr_let=np.random.randint(0,Xtr_let_rem.shape[0],ntr_let)\n",
        "ts_let=np.random.randint(0,Xts_let_rem.shape[0],nts_let)\n",
        "Xtr1_dig = Xtr_dig[tr_dig,:]\n",
        "ytr1_dig = ytr_dig[tr_dig]\n",
        "Xts1_dig = Xts_dig[ts_dig,:]\n",
        "yts1_dig = yts_dig[ts_dig]\n",
        "Xtr1_let = Xtr_let_rem[tr_let,:]\n",
        "ytr1_let = ytr_let_rem[tr_let]\n",
        "Xts1_let = Xts_let_rem[ts_let,:]\n",
        "yts1_let = yts_let_rem[ts_let]"
      ]
    },
    {
      "cell_type": "markdown",
      "metadata": {
        "id": "62M7vq3Suq0I"
      },
      "source": [
        "Next, we create data by combining the digit and letter arrays.\n",
        "* Create an array `Xtr` by stacking `Xtr1_dig`, `Xtr1_let`.  This should result in 6000 total samples.\n",
        "* Create a new label vector `ytr` where `ytr[i] = ytr1_dig[i]` for any digit sample and `ytr[i]=10` for any letter sample.  Thus, all the letters are lumped into a single class with label 11.\n",
        "\n",
        "Create test arrays `Xts` and `yts` similarly. \n",
        "\n",
        "You may wish to use the `np.hstack` and `np.vstack` methods."
      ]
    },
    {
      "cell_type": "code",
      "execution_count": 11,
      "metadata": {
        "colab": {
          "base_uri": "https://localhost:8080/"
        },
        "collapsed": true,
        "id": "Vr9ggYZquq0I",
        "outputId": "80f3cd3f-9592-47ff-b603-d8c6d2178601"
      },
      "outputs": [
        {
          "output_type": "stream",
          "name": "stdout",
          "text": [
            "(6000, 784)\n",
            "(6000,)\n",
            "(6000, 784)\n",
            "(6000,)\n"
          ]
        }
      ],
      "source": [
        "# TODO 7:  Create combined letter and digit training and test data\n",
        "# Xtr, ytr = ..\n",
        "# Xts, yts = ...\n",
        "Xtr =np.vstack((Xtr1_dig,Xtr1_let))\n",
        "print(Xtr.shape)\n",
        "ytr =np.hstack((ytr1_dig,10*np.ones(ytr1_let.shape[0])))\n",
        "print(ytr.shape)\n",
        "Xts =np.vstack((Xts1_dig,Xts1_let))\n",
        "print(Xts.shape)\n",
        "yts =np.hstack((yts1_dig,10*np.ones(yts1_let.shape[0])))\n",
        "print(yts.shape)"
      ]
    },
    {
      "cell_type": "markdown",
      "metadata": {
        "id": "WJaf0fgquq0J"
      },
      "source": [
        "The training data above takes values from 0 to 255.  Rescale the data from -1 to 1.  This will get slightly better performance on the SVM.  Save the scaled data into arrays `Xtr1` and `Xts1`."
      ]
    },
    {
      "cell_type": "code",
      "execution_count": 12,
      "metadata": {
        "collapsed": true,
        "id": "MmH2UTq9uq0J"
      },
      "outputs": [],
      "source": [
        "# TODO 8:  Rescale the data from -1 to 1\n",
        "# Xtr1 = ...\n",
        "# Xts1 = ...\n",
        "\n",
        "Xtr1 = 2*(Xtr/255 - 0.5)\n",
        "Xts1 = 2*(Xts/255 - 0.5)"
      ]
    },
    {
      "cell_type": "markdown",
      "metadata": {
        "id": "pi-StZCMuq0J"
      },
      "source": [
        "## Run the SVM classifier\n",
        "\n",
        "First create the SVM classifer. Use an `rbf` classifier with `C=2.8` and `gamma=.0073`. We will look at how to select these parameters laters."
      ]
    },
    {
      "cell_type": "code",
      "execution_count": 13,
      "metadata": {
        "collapsed": true,
        "id": "r32JHfaEuq0J"
      },
      "outputs": [],
      "source": [
        "from sklearn import svm\n",
        "\n",
        "# TODO 9:  Create a classifier: a support vector classifier\n",
        "# svc = ...\n",
        "svc = svm.SVC(probability=False, kernel=\"rbf\", C=2.8, gamma=.0073,verbose=10)"
      ]
    },
    {
      "cell_type": "markdown",
      "metadata": {
        "id": "F6PX0guuuq0K"
      },
      "source": [
        "Fit the classifier using the scaled training data.  SVMs are insanely slow to train.  But, in this lab, we have kept the training size very small. So, the fitting should take about a minute or two."
      ]
    },
    {
      "cell_type": "code",
      "execution_count": 14,
      "metadata": {
        "colab": {
          "base_uri": "https://localhost:8080/"
        },
        "collapsed": true,
        "id": "aNd2ZxYquq0K",
        "outputId": "945cd9ff-b22a-4e5e-c465-08ffbe267fea"
      },
      "outputs": [
        {
          "output_type": "stream",
          "name": "stdout",
          "text": [
            "[LibSVM]"
          ]
        },
        {
          "output_type": "execute_result",
          "data": {
            "text/plain": [
              "SVC(C=2.8, gamma=0.0073, verbose=10)"
            ]
          },
          "metadata": {},
          "execution_count": 14
        }
      ],
      "source": [
        "# TODO 10:  Fit the classifier on the training data. \n",
        "svc.fit(Xtr1,ytr)"
      ]
    },
    {
      "cell_type": "markdown",
      "metadata": {
        "id": "_0qdqR7nuq0K"
      },
      "source": [
        "Measure the accuracy on the test data.  This too will take another huge amount of time.  Print the accuracy.  If you did everything right, you should get an accuracy of around 89%."
      ]
    },
    {
      "cell_type": "code",
      "execution_count": 15,
      "metadata": {
        "colab": {
          "base_uri": "https://localhost:8080/"
        },
        "collapsed": true,
        "id": "iGVtE82zuq0K",
        "outputId": "a867e6d9-a02d-4f1c-b045-af029130c503"
      },
      "outputs": [
        {
          "output_type": "stream",
          "name": "stdout",
          "text": [
            "Accuaracy = 0.916333\n"
          ]
        }
      ],
      "source": [
        "# TODO 11:  Measure error on the test data\n",
        "yhat_ts = svc.predict(Xts1)\n",
        "acc = np.mean(yhat_ts == yts) \n",
        "print('Accuaracy = {0:f}'.format(acc))"
      ]
    },
    {
      "cell_type": "markdown",
      "metadata": {
        "id": "xKLbXhIYuq0K"
      },
      "source": [
        "The error rate is quite a bit higher than what we got in the digits only case.  Actually, had we done a classifier using all 36 labels instead of collapsing the letters to a single class, the SVM classifier would have done much better.  The reason is that the \"letters\" class is now extremely complex.  \n",
        "\n",
        "Print a confusion matrix.  You should see that the error rate on the \"letters\" class is much higher."
      ]
    },
    {
      "cell_type": "code",
      "execution_count": 16,
      "metadata": {
        "colab": {
          "base_uri": "https://localhost:8080/",
          "height": 469
        },
        "collapsed": true,
        "id": "akjSYfm0uq0L",
        "outputId": "900d0a8e-4daa-45fe-ebc9-f1c4741e2122"
      },
      "outputs": [
        {
          "output_type": "stream",
          "name": "stdout",
          "text": [
            "[[0.945 0.    0.    0.    0.    0.    0.006 0.    0.    0.    0.026]\n",
            " [0.    0.978 0.    0.004 0.    0.002 0.    0.    0.    0.    0.008]\n",
            " [0.    0.    0.913 0.002 0.002 0.002 0.    0.002 0.002 0.    0.039]\n",
            " [0.002 0.    0.002 0.953 0.    0.002 0.    0.002 0.006 0.004 0.014]\n",
            " [0.    0.    0.    0.    0.894 0.    0.    0.    0.    0.017 0.04 ]\n",
            " [0.    0.    0.    0.012 0.    0.891 0.004 0.    0.    0.006 0.042]\n",
            " [0.002 0.002 0.    0.    0.    0.    0.949 0.    0.002 0.    0.023]\n",
            " [0.    0.    0.002 0.    0.    0.    0.    0.958 0.004 0.017 0.01 ]\n",
            " [0.    0.    0.004 0.008 0.    0.004 0.    0.    0.861 0.004 0.056]\n",
            " [0.002 0.    0.    0.004 0.011 0.    0.    0.008 0.006 0.938 0.017]\n",
            " [0.023 0.008 0.051 0.008 0.054 0.057 0.03  0.006 0.021 0.039 0.853]]\n"
          ]
        },
        {
          "output_type": "execute_result",
          "data": {
            "text/plain": [
              "<matplotlib.colorbar.Colorbar at 0x7f2f3aad0450>"
            ]
          },
          "metadata": {},
          "execution_count": 16
        },
        {
          "output_type": "display_data",
          "data": {
            "text/plain": [
              "<Figure size 432x288 with 2 Axes>"
            ],
            "image/png": "[encoded data removed]"
          },
          "metadata": {
            "needs_background": "light"
          }
        }
      ],
      "source": [
        "# TODO 12:  Print a confusion matrix\n",
        "from sklearn.metrics import confusion_matrix \n",
        "C = confusion_matrix(yts,yhat_ts)\n",
        "# Normalize the confusion matrix\n",
        "Csum = np.sum(C,1) \n",
        "C = C / Csum[None,:]\n",
        "# Print the confusion matrix\n",
        "print(np.array_str(C, precision=3, suppress_small=True)) \n",
        "plt.imshow(C, interpolation='none')\n",
        "plt.colorbar()"
      ]
    },
    {
      "cell_type": "markdown",
      "metadata": {
        "id": "pfF4a3dyuq0L"
      },
      "source": [
        "Print:\n",
        "* What fraction of digits are mislabeled as letters?  \n",
        "* What fraction of letters are mislabeled as digits?"
      ]
    },
    {
      "cell_type": "code",
      "execution_count": 17,
      "metadata": {
        "colab": {
          "base_uri": "https://localhost:8080/"
        },
        "id": "7ag2Mfgcuq0L",
        "outputId": "b1997066-051a-4bda-a833-cc66938bcd57"
      },
      "outputs": [
        {
          "output_type": "stream",
          "name": "stdout",
          "text": [
            "Mislabeled digits as letters: 0.0984\n",
            "Mislabeled letters as digits: 0.494\n"
          ]
        }
      ],
      "source": [
        "# TODO 13:  Print above two error rates\n",
        "cm=confusion_matrix(yts, yhat_ts)\n",
        "print(f\"Mislabeled digits as letters: {np.sum(cm[:9, 1])/5000}\")\n",
        "print(f\"Mislabeled letters as digits: {np.sum(cm[ 1, :9])/1000}\")\n"
      ]
    },
    {
      "cell_type": "markdown",
      "metadata": {
        "id": "MmBiJXPxuq0L"
      },
      "source": [
        "## Selecting gamma and C via Cross-Validation (Using For-Loops)\n",
        "\n",
        "In the above example, and in the demo, we used a given `gamma` and `C` value.  The selection of the parameters depend on the problem and decent performance of the SVM requires that you select these parameters carefully.  The best way to select the parameters is via cross validation.  Specifically, generally, one tries different values of `gamma` and `C` and selects the pair of values the lowest test error rate.\n",
        "\n",
        "In the code below, we will try to use 3 values for `C` and `gamma` as specified in the arrays `C_test` and `gam_test`.  For each `C` and `gamma` in these arrays, fit a model on the training data and measure the accuracy on the test data.  Then, print the `C` and `gamma` that result in the best accuracy.   \n",
        "\n",
        "Normally, you would try a large number of values for each of the parameters, but an SVM is very slow to train -- even with this small data set.  So, we will just do 3 values of each.  Even then, this could take 30 minutes or so to complete. \n",
        "\n",
        "In this lab, you may do the parameter search over `C` and `gamma` in one of two ways:\n",
        "* This section:  Use for loops and manually search over the parameters.  This is more direct and you will see and control exactly what is happening.\n",
        "* Next section:  Use the `GridSearchCV` method in the `sklearn` package.  This takes a little reading, but once you learn this method, you can more easily use this for complex parameter searches.\n",
        "\n",
        "**You only need to submit the solutions to one of the two sections.**  Pick whichever one you want."
      ]
    },
    {
      "cell_type": "code",
      "execution_count": 18,
      "metadata": {
        "colab": {
          "base_uri": "https://localhost:8080/"
        },
        "collapsed": true,
        "id": "nV3QrzWFuq0L",
        "outputId": "a134891d-e844-4a24-dfce-5ec44708fa77"
      },
      "outputs": [
        {
          "output_type": "stream",
          "name": "stdout",
          "text": [
            "[LibSVM][LibSVM][LibSVM][LibSVM][LibSVM][LibSVM][LibSVM][LibSVM][LibSVM][[0.781      0.5975     0.16666667]\n",
            " [0.86633333 0.89416667 0.21533333]\n",
            " [0.90133333 0.90283333 0.21933333]]\n"
          ]
        }
      ],
      "source": [
        "C_test = [0.1,1,10]\n",
        "gam_test = [0.001,0.01,0.1]\n",
        "\n",
        "nC = len(C_test)\n",
        "ngam = len(gam_test)\n",
        "acc = np.zeros((nC,ngam))\n",
        "\n",
        "# TODO 14:  Measure and print the accuracy for each C and gamma value.  Store the results in acc\n",
        "for i,c in enumerate(C_test):\n",
        "   for j, gam in enumerate(gam_test):\n",
        "      svc = svm.SVC(probability=False, kernel=\"rbf\", C=c, gamma=gam,verbose=10) \n",
        "      svc.fit(Xtr1,ytr)\n",
        "      yhat_ts = svc.predict(Xts1)\n",
        "      acc[i][j] = np.mean(yhat_ts == yts)\n",
        "print(acc)"
      ]
    },
    {
      "cell_type": "code",
      "execution_count": 19,
      "metadata": {
        "collapsed": true,
        "id": "pt_f_28Vuq0M",
        "colab": {
          "base_uri": "https://localhost:8080/"
        },
        "outputId": "694300b9-03b7-4fc4-ba31-5d568e77955c"
      },
      "outputs": [
        {
          "output_type": "stream",
          "name": "stdout",
          "text": [
            "[[0.781      0.5975     0.16666667]\n",
            " [0.86633333 0.89416667 0.21533333]\n",
            " [0.90133333 0.90283333 0.21933333]]\n"
          ]
        }
      ],
      "source": [
        "# TODO 15:  Print the accuracy matrix\n",
        "print(acc)"
      ]
    },
    {
      "cell_type": "code",
      "execution_count": 20,
      "metadata": {
        "collapsed": true,
        "id": "bWCF4739uq0M",
        "colab": {
          "base_uri": "https://localhost:8080/"
        },
        "outputId": "1dd837f9-0f67-4453-f927-57c56c142957"
      },
      "outputs": [
        {
          "output_type": "stream",
          "name": "stdout",
          "text": [
            "max Accuaracy = 0.902833\n",
            "best C = 10.000000\n",
            "best gamaa = 0.010000\n"
          ]
        }
      ],
      "source": [
        "# TODO 16:  Print the maximum accuracy and the corresponding best C and gamma\n",
        "ind = np.unravel_index(np.argmax(acc, axis=None), acc.shape) \n",
        "print('max Accuaracy = {0:f}'.format(np.max(acc))) \n",
        "print('best C = {0:f}'.format(C_test[ind[0]]))\n",
        "print('best gamaa = {0:f}'.format(gam_test[ind[1]]))"
      ]
    },
    {
      "cell_type": "markdown",
      "metadata": {
        "collapsed": true,
        "id": "qcu7qKFhuq0M"
      },
      "source": [
        "## Using `GridSearchCV` (Optional Section)\n",
        "\n",
        "\n",
        "In the previous section, you would have likely used `for-loops` to search over the different `C` and `gamma` values.  Since this type of parameter search is so commonly used, `sklearn` has an excellent method `GridSearchCV` that can perform all the operations for you.  In this lab, `GridSearchCV` is not that useful.  But, once you get to more complex parameter searches, the `GridSearchCV` method can save you writing a lot of code.  Importantly, `GridSearchCV` supports parallelization so that fits with different parameters can be fit at the same time.  In this optional section, we will show how to use this method.  \n",
        "\n",
        "**You do not have to do this section, if you did the previous section**.  "
      ]
    },
    {
      "cell_type": "markdown",
      "metadata": {
        "id": "Gzjt9s0Guq0M"
      },
      "source": [
        "The `GridSearchCV` method does the train-test split in addition to the parameter search.  In this case, you have already a fixed train-test split.  So, you first need to combine the train and test data back into a single dataset.\n",
        "\n",
        "Create arrays `X` and `y` from `Xtr1`, `Xts1`, `ytr` and `yts`.  Use `np.vstack` and `np.hstack`."
      ]
    },
    {
      "cell_type": "code",
      "execution_count": 21,
      "metadata": {
        "collapsed": true,
        "id": "gnGIiua8uq0M"
      },
      "outputs": [],
      "source": [
        "# TODO 17:  Create combined trained and test data X and y.\n",
        "# X = ...\n",
        "# y = ..."
      ]
    },
    {
      "cell_type": "markdown",
      "metadata": {
        "id": "kYGCYbxwuq0M"
      },
      "source": [
        "Normally, `GridSearchCV` will do $K$-fold validation and automatically split the data into training and test in each fold.  But, in this case, we want it to perform only one fold with a specific train-test split.  To do this, we need to do the following:\n",
        "* Create a vector `test_fold` where `test_fold[i] = -1` for the samples `i` in the training data (this indicates that they should not be used as test data in any fold) and `test_fold[i] = 0` for the samples `i` in the test data (this indicates that they should be as test data in fold 0).\n",
        "* Call the method  `ps = sklearn.model_selection.PredefinedSplit(test_fold)` to create a predefined test split object."
      ]
    },
    {
      "cell_type": "code",
      "execution_count": 22,
      "metadata": {
        "collapsed": true,
        "id": "vYlV6loHuq0M"
      },
      "outputs": [],
      "source": [
        "# TODO 18:  Create a pre-defined test split object \n",
        "# import sklearn.model_selection\n",
        "# test_fold = ...\n",
        "# ps = sklearn.model_selection.PredefinedSplit(test_fold)"
      ]
    },
    {
      "cell_type": "markdown",
      "metadata": {
        "id": "M56K7fosuq0M"
      },
      "source": [
        "Next, read about the `GridSearchCV` method to set up a classifier that includes searching over the parameter grid.  \n",
        "* For the `param_grid` parameter, you will want to create a dictionary to search over `C` and `gamma`.  You will also need to select the `kernel` parameter.\n",
        "* Set `cv = ps` to use the fixed train-test split.\n",
        "* Set `verbose=10` to monitor the progress"
      ]
    },
    {
      "cell_type": "code",
      "execution_count": 23,
      "metadata": {
        "collapsed": true,
        "id": "ll-JdCi9uq0N"
      },
      "outputs": [],
      "source": [
        "# TODO 19:  Create a GridSearchCV classifier\n",
        "# clf = ..."
      ]
    },
    {
      "cell_type": "markdown",
      "metadata": {
        "id": "Yymx9V7Ruq0N"
      },
      "source": [
        "Fit the classifier using the `fit` method.  The fit method will now search over all the parameters. This will take about 30 minutes."
      ]
    },
    {
      "cell_type": "code",
      "execution_count": 24,
      "metadata": {
        "collapsed": true,
        "id": "YuK4RKZ-uq0N"
      },
      "outputs": [],
      "source": [
        "# TODO 20: Fit the classifier"
      ]
    },
    {
      "cell_type": "markdown",
      "metadata": {
        "id": "76O7xWDouq0N"
      },
      "source": [
        "Print the `best_score_` and `best_params_` attributes of the classifier to find the best score and parameters"
      ]
    },
    {
      "cell_type": "code",
      "execution_count": 25,
      "metadata": {
        "collapsed": true,
        "id": "DJjhgIXfuq0N"
      },
      "outputs": [],
      "source": [
        "# TODO 21:  Print the best parameter and score of the classifier"
      ]
    },
    {
      "cell_type": "markdown",
      "metadata": {
        "id": "v7dYAf_Yuq0N"
      },
      "source": [
        "Finally, you can print the test and train score from the `cv_results_['mean_test_score']` and `cv_results_['mean_train_score']`."
      ]
    },
    {
      "cell_type": "code",
      "execution_count": 26,
      "metadata": {
        "collapsed": true,
        "id": "OxsSXhYHuq0N"
      },
      "outputs": [],
      "source": [
        "# TODO 22:  Print the mean test score for each parameter value."
      ]
    },
    {
      "cell_type": "code",
      "execution_count": 26,
      "metadata": {
        "collapsed": true,
        "id": "pj0z8q2muq0N"
      },
      "outputs": [],
      "source": []
    }
  ],
  "metadata": {
    "colab": {
      "provenance": []
    },
    "kernelspec": {
      "display_name": "Python 3",
      "language": "python",
      "name": "python3"
    },
    "language_info": {
      "codemirror_mode": {
        "name": "ipython",
        "version": 3
      },
      "file_extension": ".py",
      "mimetype": "text/x-python",
      "name": "python",
      "nbconvert_exporter": "python",
      "pygments_lexer": "ipython3",
      "version": "3.8.5"
    }
  },
  "nbformat": 4,
  "nbformat_minor": 0
}